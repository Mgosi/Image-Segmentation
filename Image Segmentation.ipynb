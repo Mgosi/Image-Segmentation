{
 "cells": [
  {
   "cell_type": "code",
   "execution_count": 1,
   "metadata": {},
   "outputs": [],
   "source": [
    "import cv2\n",
    "import numpy as np\n",
    "import matplotlib.pyplot as plt"
   ]
  },
  {
   "cell_type": "code",
   "execution_count": 2,
   "metadata": {},
   "outputs": [],
   "source": [
    "img = cv2.imread(\"segment.jpg\", 0)"
   ]
  },
  {
   "cell_type": "code",
   "execution_count": 3,
   "metadata": {},
   "outputs": [],
   "source": [
    "histogram = np.zeros(255)\n",
    "for i in range(img.shape[0]):\n",
    "    for j in range(img.shape[1]):\n",
    "        point = img[i][j]\n",
    "        histogram[point] += 1"
   ]
  },
  {
   "cell_type": "code",
   "execution_count": 4,
   "metadata": {},
   "outputs": [
    {
     "data": {
      "text/plain": [
       "<BarContainer object of 254 artists>"
      ]
     },
     "execution_count": 4,
     "metadata": {},
     "output_type": "execute_result"
    },
    {
     "data": {
      "image/png": "[encoded data removed]",
      "text/plain": [
       "<Figure size 432x288 with 1 Axes>"
      ]
     },
     "metadata": {},
     "output_type": "display_data"
    }
   ],
   "source": [
    "plt.bar(np.arange(len(histogram)-1), histogram[1:])"
   ]
  },
  {
   "cell_type": "code",
   "execution_count": 5,
   "metadata": {},
   "outputs": [
    {
     "data": {
      "text/plain": [
       "True"
      ]
     },
     "execution_count": 5,
     "metadata": {},
     "output_type": "execute_result"
    }
   ],
   "source": [
    "new_img = np.zeros((img.shape[0],img.shape[1]))\n",
    "for i in range(img.shape[0]):\n",
    "    for j in range(img.shape[1]):\n",
    "        if(img[i][j] > 205):\n",
    "            new_img[i][j] = 255\n",
    "cv2.imwrite(\"new.jpg\",new_img)\n",
    "cv2.imwrite(\"x.jpg\",new_img[:,:210])\n",
    "cv2.imwrite(\"y.jpg\",new_img[:,210:310])\n",
    "cv2.imwrite(\"z.jpg\",new_img[:,310:380])\n",
    "cv2.imwrite(\"a.jpg\",new_img[:,380:500])"
   ]
  },
  {
   "cell_type": "code",
   "execution_count": 6,
   "metadata": {},
   "outputs": [],
   "source": [
    "def coordinates(img):\n",
    "    x_coord = []\n",
    "    y_coord = []\n",
    "    for i in range(img.shape[0]):\n",
    "        for j in range(img.shape[1]):\n",
    "            if img[i][j] == 255:\n",
    "                x_coord.append(i)\n",
    "                y_coord.append(j)\n",
    "    \n",
    "    x_max = max(x_coord)\n",
    "    x_min = min(x_coord)\n",
    "    y_max = max(y_coord)\n",
    "    y_min = min(y_coord)\n",
    "    return x_max, x_min, y_max, y_min"
   ]
  },
  {
   "cell_type": "code",
   "execution_count": 7,
   "metadata": {},
   "outputs": [],
   "source": [
    "\n",
    "\n",
    "boundary_1 = coordinates(new_img[:,:210])\n",
    "boundary_2 = coordinates(new_img[:,210:310])\n",
    "boundary_3 = coordinates(new_img[:,310:380])\n",
    "boundary_4 = coordinates(new_img[:,380:500])"
   ]
  },
  {
   "cell_type": "code",
   "execution_count": 44,
   "metadata": {},
   "outputs": [
    {
     "data": {
      "text/plain": [
       "True"
      ]
     },
     "execution_count": 44,
     "metadata": {},
     "output_type": "execute_result"
    }
   ],
   "source": [
    "img_copy = cv2.imread(\"segment.jpg\",0)\n",
    "cv2.rectangle(img_copy, (boundary_1[3],boundary_1[0]),(boundary_1[2],boundary_1[1]),(0,255,0),3)\n",
    "\n",
    "cv2.rectangle(img_copy, (210+boundary_2[3]-2,boundary_2[0]+5),(210+boundary_2[2]+10,boundary_2[1]-5),(0,255,0),3)\n",
    "cv2.rectangle(img_copy, (310+boundary_3[3]-13,boundary_3[0]+7),(310+boundary_3[2]+5,boundary_3[1]-15),(0,255,0),3)\n",
    "cv2.rectangle(img_copy, (380+boundary_4[3]-5,boundary_4[0]+38),(380+boundary_4[2]+61,boundary_4[1]-15),(0,255,0),3)\n",
    "cv2.imwrite(\"bounded_img.jpg\",img_copy)"
   ]
  },
  {
   "cell_type": "code",
   "execution_count": 53,
   "metadata": {},
   "outputs": [
    {
     "name": "stdout",
     "output_type": "stream",
     "text": [
      "165 162\n",
      "199 127\n",
      "253 207\n",
      "308 74\n",
      "324 291\n",
      "367 12\n",
      "385 286\n",
      "480 29\n"
     ]
    }
   ],
   "source": [
    "print (boundary_1[3],boundary_1[0])\n",
    "print (boundary_1[2],boundary_1[1])\n",
    "\n",
    "print (210+boundary_2[3]-2,boundary_2[0]+5)\n",
    "print (210+boundary_2[2]+10,boundary_2[1]-5)\n",
    "\n",
    "print (310+boundary_3[3]-13,boundary_3[0]+7)\n",
    "print (310+boundary_3[2]+5,boundary_3[1]-15)\n",
    "\n",
    "print (380+boundary_4[3]-5,boundary_4[0]+38)\n",
    "print (380+boundary_4[2]+61,boundary_4[1]-15)"
   ]
  },
  {
   "cell_type": "code",
   "execution_count": null,
   "metadata": {},
   "outputs": [],
   "source": []
  }
 ],
 "metadata": {
  "kernelspec": {
   "display_name": "Python 3",
   "language": "python",
   "name": "python3"
  },
  "language_info": {
   "codemirror_mode": {
    "name": "ipython",
    "version": 3
   },
   "file_extension": ".py",
   "mimetype": "text/x-python",
   "name": "python",
   "nbconvert_exporter": "python",
   "pygments_lexer": "ipython3",
   "version": "3.6.5"
  }
 },
 "nbformat": 4,
 "nbformat_minor": 2
}
